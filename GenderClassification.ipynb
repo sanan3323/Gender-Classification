{
 "cells": [
  {
   "cell_type": "code",
   "execution_count": 1,
   "id": "db993d87",
   "metadata": {},
   "outputs": [],
   "source": [
    "import pandas as pd\n",
    "import numpy as np"
   ]
  },
  {
   "cell_type": "code",
   "execution_count": 23,
   "id": "ab1b7124",
   "metadata": {},
   "outputs": [],
   "source": [
    "col_name = ['Name','Sex']"
   ]
  },
  {
   "cell_type": "code",
   "execution_count": 24,
   "id": "a7c747dc",
   "metadata": {},
   "outputs": [],
   "source": [
    "df_male = pd.read_csv('male.txt',names=col_name)\n",
    "df_female = pd.read_csv('female.txt',names=col_name)"
   ]
  },
  {
   "cell_type": "code",
   "execution_count": 33,
   "id": "4cdb6f5c",
   "metadata": {},
   "outputs": [],
   "source": [
    "df_female = df_female.fillna('Female')"
   ]
  },
  {
   "cell_type": "code",
   "execution_count": 34,
   "id": "a47fc121",
   "metadata": {},
   "outputs": [],
   "source": [
    "df_male=df_male.fillna('Male')"
   ]
  },
  {
   "cell_type": "code",
   "execution_count": 35,
   "id": "0c744a8d",
   "metadata": {},
   "outputs": [],
   "source": [
    "frames=[df_male,df_female]\n",
    "df=pd.concat(frames)"
   ]
  },
  {
   "cell_type": "code",
   "execution_count": 42,
   "id": "0e80c227",
   "metadata": {},
   "outputs": [
    {
     "data": {
      "text/html": [
       "<div>\n",
       "<style scoped>\n",
       "    .dataframe tbody tr th:only-of-type {\n",
       "        vertical-align: middle;\n",
       "    }\n",
       "\n",
       "    .dataframe tbody tr th {\n",
       "        vertical-align: top;\n",
       "    }\n",
       "\n",
       "    .dataframe thead th {\n",
       "        text-align: right;\n",
       "    }\n",
       "</style>\n",
       "<table border=\"1\" class=\"dataframe\">\n",
       "  <thead>\n",
       "    <tr style=\"text-align: right;\">\n",
       "      <th></th>\n",
       "      <th>Name</th>\n",
       "      <th>Sex</th>\n",
       "    </tr>\n",
       "  </thead>\n",
       "  <tbody>\n",
       "    <tr>\n",
       "      <th>0</th>\n",
       "      <td>Aamir</td>\n",
       "      <td>Male</td>\n",
       "    </tr>\n",
       "    <tr>\n",
       "      <th>1</th>\n",
       "      <td>Aaron</td>\n",
       "      <td>Male</td>\n",
       "    </tr>\n",
       "    <tr>\n",
       "      <th>2</th>\n",
       "      <td>Abbey</td>\n",
       "      <td>Male</td>\n",
       "    </tr>\n",
       "    <tr>\n",
       "      <th>3</th>\n",
       "      <td>Abbie</td>\n",
       "      <td>Male</td>\n",
       "    </tr>\n",
       "    <tr>\n",
       "      <th>4</th>\n",
       "      <td>Abbot</td>\n",
       "      <td>Male</td>\n",
       "    </tr>\n",
       "  </tbody>\n",
       "</table>\n",
       "</div>"
      ],
      "text/plain": [
       "       Name   Sex\n",
       "0     Aamir  Male\n",
       "1     Aaron  Male\n",
       "2     Abbey  Male\n",
       "3     Abbie  Male\n",
       "4     Abbot  Male"
      ]
     },
     "execution_count": 42,
     "metadata": {},
     "output_type": "execute_result"
    }
   ],
   "source": [
    "df.head()"
   ]
  },
  {
   "cell_type": "code",
   "execution_count": 43,
   "id": "51e05710",
   "metadata": {},
   "outputs": [
    {
     "name": "stdout",
     "output_type": "stream",
     "text": [
      "<class 'pandas.core.frame.DataFrame'>\n",
      "Int64Index: 7944 entries, 0 to 5000\n",
      "Data columns (total 2 columns):\n",
      " #   Column  Non-Null Count  Dtype \n",
      "---  ------  --------------  ----- \n",
      " 0   Name    7944 non-null   object\n",
      " 1   Sex     7944 non-null   object\n",
      "dtypes: object(2)\n",
      "memory usage: 186.2+ KB\n"
     ]
    }
   ],
   "source": [
    "df.info()"
   ]
  },
  {
   "cell_type": "code",
   "execution_count": 44,
   "id": "76325289",
   "metadata": {},
   "outputs": [
    {
     "data": {
      "text/plain": [
       "Name    0\n",
       "Sex     0\n",
       "dtype: int64"
      ]
     },
     "execution_count": 44,
     "metadata": {},
     "output_type": "execute_result"
    }
   ],
   "source": [
    "df.isna().sum()"
   ]
  },
  {
   "cell_type": "code",
   "execution_count": 47,
   "id": "ac059606",
   "metadata": {},
   "outputs": [],
   "source": [
    "df['Sex'].replace({'Female':0,'Male':1},inplace=True)"
   ]
  },
  {
   "cell_type": "code",
   "execution_count": 50,
   "id": "54813b52",
   "metadata": {},
   "outputs": [],
   "source": [
    "X=df['Name']\n",
    "y=df['Sex']"
   ]
  },
  {
   "cell_type": "code",
   "execution_count": 52,
   "id": "5890c4ae",
   "metadata": {},
   "outputs": [],
   "source": [
    "from sklearn.feature_extraction.text import CountVectorizer\n",
    "cv=CountVectorizer()\n",
    "X= cv.fit_transform(X)"
   ]
  },
  {
   "cell_type": "code",
   "execution_count": 53,
   "id": "93c19927",
   "metadata": {},
   "outputs": [],
   "source": [
    "from sklearn.model_selection import train_test_split"
   ]
  },
  {
   "cell_type": "code",
   "execution_count": 54,
   "id": "991b06da",
   "metadata": {},
   "outputs": [],
   "source": [
    "X_train,X_test,y_train,y_test = train_test_split(X,y,shuffle=True,train_size=0.7)"
   ]
  },
  {
   "cell_type": "code",
   "execution_count": 55,
   "id": "ef6d6b74",
   "metadata": {},
   "outputs": [
    {
     "data": {
      "text/plain": [
       "0.6065436241610739"
      ]
     },
     "execution_count": 55,
     "metadata": {},
     "output_type": "execute_result"
    }
   ],
   "source": [
    "from sklearn.naive_bayes import MultinomialNB\n",
    "nb = MultinomialNB()\n",
    "nb.fit(X_train,y_train)\n",
    "nb.score(X_test,y_test)"
   ]
  },
  {
   "cell_type": "code",
   "execution_count": 60,
   "id": "8c7920a5",
   "metadata": {},
   "outputs": [],
   "source": [
    "def genderpredictor(name):\n",
    "    test_name =[name]\n",
    "    vec = cv.transform(test_name).toarray()\n",
    "    if nb.predict(vec) ==0:\n",
    "        print('Female')\n",
    "    else:\n",
    "        print('Male')"
   ]
  },
  {
   "cell_type": "code",
   "execution_count": 61,
   "id": "26318d4d",
   "metadata": {},
   "outputs": [
    {
     "name": "stdout",
     "output_type": "stream",
     "text": [
      "Female\n"
     ]
    }
   ],
   "source": [
    "genderpredictor('Jane')"
   ]
  },
  {
   "cell_type": "code",
   "execution_count": 65,
   "id": "8604e821",
   "metadata": {},
   "outputs": [
    {
     "name": "stdout",
     "output_type": "stream",
     "text": [
      "Male\n"
     ]
    }
   ],
   "source": [
    "genderpredictor('david')"
   ]
  },
  {
   "cell_type": "code",
   "execution_count": null,
   "id": "fa03ec05",
   "metadata": {},
   "outputs": [],
   "source": []
  }
 ],
 "metadata": {
  "kernelspec": {
   "display_name": "Python 3 (ipykernel)",
   "language": "python",
   "name": "python3"
  },
  "language_info": {
   "codemirror_mode": {
    "name": "ipython",
    "version": 3
   },
   "file_extension": ".py",
   "mimetype": "text/x-python",
   "name": "python",
   "nbconvert_exporter": "python",
   "pygments_lexer": "ipython3",
   "version": "3.9.7"
  }
 },
 "nbformat": 4,
 "nbformat_minor": 5
}
